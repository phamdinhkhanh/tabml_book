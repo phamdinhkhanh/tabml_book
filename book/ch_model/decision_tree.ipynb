{
 "cells": [
  {
   "cell_type": "markdown",
   "id": "curious-vault",
   "metadata": {
    "pycharm": {
     "name": "#%% md\n"
    }
   },
   "source": [
    "# Decision Tree algorithm\n",
    "\n",
    "Decision Tree là thuật toán supervised, có thể giải quyết cả bài toán regression và classification."
   ]
  },
  {
   "cell_type": "markdown",
   "source": [
    "## Giới thiệu về thuật toán Decision Tree"
   ],
   "metadata": {
    "collapsed": false
   }
  },
  {
   "cell_type": "markdown",
   "source": [
    "Một thuật toán Machine Learning thường sẽ có 2 bước:\n",
    "1. Training: Từ dữ liệu thuật toán sẽ học ra model.\n",
    "2. Prediction: Dùng model học được từ bước trên dự đoán các giá trị mới.\n",
    "\n",
    "Bước training ở thuật toán Decision Tree, sẽ xây ra một cây điều kiện.\n",
    "Ví dụ, như với dữ liệu Titatic, thuật toán Decision Tree sẽ học ra model dạng cây như thế này\n",
    "\n",
    "![titanic_decision_tree](./imgs/titanic.png)\n",
    "\n",
    "Thông tin Title được lấy ra từ trường Name. Sau đó trường Title, Sex được chuyển về dạng số"
   ],
   "metadata": {
    "collapsed": false
   }
  },
  {
   "cell_type": "code",
   "execution_count": 11,
   "outputs": [],
   "source": [
    "title_mapping   = {\"Mr\": 1, \"Miss\": 2, \"Mrs\": 3, \"Master\": 4, \"Rare\": 5}\n",
    "sex_mapping     = {'female': 0, 'male': 1}"
   ],
   "metadata": {
    "collapsed": false,
    "pycharm": {
     "name": "#%%\n"
    }
   }
  },
  {
   "cell_type": "markdown",
   "source": [
    "Sau đó ở bước dự đoán, thuật toán sẽ dựa vào thông tin của hành khách và đi theo các điều kiện của cây từ trên xuống dưới để cho ra\n",
    "dự đoán xem người đó sống hay chết. Ví dụ với thông tin khách hàng thế này:"
   ],
   "metadata": {
    "collapsed": false
   }
  },
  {
   "cell_type": "code",
   "execution_count": 4,
   "outputs": [
    {
     "data": {
      "text/plain": "   PassengerId  Survived  Pclass                     Name   Sex   Age  SibSp  \\\n0            1         0       3  Braund, Mr. Owen Harris  male  22.0      1   \n\n   Parch     Ticket  Fare Cabin Embarked  \n0      0  A/5 21171  7.25   NaN        S  ",
      "text/html": "<div>\n<style scoped>\n    .dataframe tbody tr th:only-of-type {\n        vertical-align: middle;\n    }\n\n    .dataframe tbody tr th {\n        vertical-align: top;\n    }\n\n    .dataframe thead th {\n        text-align: right;\n    }\n</style>\n<table border=\"1\" class=\"dataframe\">\n  <thead>\n    <tr style=\"text-align: right;\">\n      <th></th>\n      <th>PassengerId</th>\n      <th>Survived</th>\n      <th>Pclass</th>\n      <th>Name</th>\n      <th>Sex</th>\n      <th>Age</th>\n      <th>SibSp</th>\n      <th>Parch</th>\n      <th>Ticket</th>\n      <th>Fare</th>\n      <th>Cabin</th>\n      <th>Embarked</th>\n    </tr>\n  </thead>\n  <tbody>\n    <tr>\n      <th>0</th>\n      <td>1</td>\n      <td>0</td>\n      <td>3</td>\n      <td>Braund, Mr. Owen Harris</td>\n      <td>male</td>\n      <td>22.0</td>\n      <td>1</td>\n      <td>0</td>\n      <td>A/5 21171</td>\n      <td>7.25</td>\n      <td>NaN</td>\n      <td>S</td>\n    </tr>\n  </tbody>\n</table>\n</div>"
     },
     "execution_count": 4,
     "metadata": {},
     "output_type": "execute_result"
    }
   ],
   "source": [
    "import pandas as pd\n",
    "data = pd.read_csv('../data/train.csv')\n",
    "data.head(1)"
   ],
   "metadata": {
    "collapsed": false,
    "pycharm": {
     "name": "#%%\n"
    }
   }
  },
  {
   "cell_type": "markdown",
   "source": [
    "Từ trường Name, mình sẽ lấy được Title là \"Mr\" rồi chuyển về dạng số là 1.\n",
    "1. Title = 1 <= 1.5, điều kiện đúng nên kiểm tra tiếp điều kiện ở node con ở dưới bên trái.\n",
    "2. Has_Cabin = 0 <= 0.5, điều kiện đúng nên kiểm tra tiếp điều kiện ở node con ở dưới bên trái (trường Cabin là NaN nên has_cabin thành 0).\n",
    "3. Pclass = 3 >= 1.5, điều kiện sai nên xuống node con bên phải, node này là node lá có kết quả dự đoán luôn chứ không cần kiểm tra điều kiện nữa.\n",
    "4. Lấy thông tin từ node lá, dự đoán class = Died.\n",
    "\n",
    "![titanic_decision_tree_predict](./imgs/titanic_predict.png)"
   ],
   "metadata": {
    "collapsed": false
   }
  }
 ],
 "metadata": {
  "kernelspec": {
   "name": "pycharm-ead8bbd2",
   "language": "python",
   "display_name": "PyCharm (tabml_book)"
  },
  "language_info": {
   "codemirror_mode": {
    "name": "ipython",
    "version": 3
   },
   "file_extension": ".py",
   "mimetype": "text/x-python",
   "name": "python",
   "nbconvert_exporter": "python",
   "pygments_lexer": "ipython3",
   "version": "3.8.7"
  }
 },
 "nbformat": 4,
 "nbformat_minor": 5
}