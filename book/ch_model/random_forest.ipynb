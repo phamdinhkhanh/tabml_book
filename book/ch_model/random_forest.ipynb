{
 "cells": [
  {
   "cell_type": "markdown",
   "id": "curious-vault",
   "metadata": {
    "pycharm": {
     "name": "#%% md\n"
    }
   },
   "source": [
    "# Random Forest algorithm\n",
    "\n",
    "Random forest là thuật toán supervised learning, có thể giải quyết cả bài toán regression và classification."
   ]
  },
  {
   "cell_type": "markdown",
   "id": "supposed-aaron",
   "metadata": {},
   "source": [
    "## Giới thiệu về thuật toán Random Forest"
   ]
  },
  {
   "attachments": {},
   "cell_type": "markdown",
   "id": "placed-option",
   "metadata": {},
   "source": [
    "Random là ngẫu nhiên, Forest là rừng, nên ở thuật toán Random Forest mình sẽ xây nhiều cây quyết định bằng thuật toán Decision Tree, tuy nhiên mỗi cây quyết định sẽ khác nhau (có yếu tố random). Sau đó kết quả dự đoán được tổng hợp từ các cây quyết định.\n",
    "\n",
    "Ở trước huấn luyện thì mình sẽ nhiều cây quyết định, các cây quyết định có thể khác nhau (phần sau mình sẽ nói mỗi cây được xây như thế nào).\n",
    "\n",
    "![random forest](./imgs/random_forest/random_forest.PNG)\n",
    "\n",
    "Sau đó ở bước dự đoán, với một dữ liệu mới, thì ở mỗi cây quyết định mình sẽ đi từ trên xuống theo các node điều kiện để được các dự đoán\n",
    "\n",
    "![random forest](./imgs/random_forest/random_forest_predict.PNG)\n",
    "\n",
    "Ví dụ như trên, thuật toán Random Forest có 6 cây quyết định, 5 cây dự đoán 1 và 1 cây dự đoán 0, do đó mình sẽ vote là cho ra dự đoán cuối cùng là 1."
   ]
  },
  {
   "cell_type": "markdown",
   "id": "violent-irrigation",
   "metadata": {},
   "source": [
    "# Xây dựng thuật toán Random Forest"
   ]
  },
  {
   "cell_type": "markdown",
   "id": "acute-football",
   "metadata": {},
   "source": [
    "Giả sử bộ dữ liệu của mình có n dữ liệu (sample) và mỗi dữ liệu có d thuộc tính (feature).\n",
    "\n",
    "Để xây mỗi cây quyết định mình sẽ làm như sau:\n",
    "1. Lấy ngẫu nhiên n dữ liệu từ bộ dữ liệu với kĩ thuật [Bootstrapping](https://en.wikipedia.org/wiki/Bootstrapping_(statistics)), hay còn gọi là random sampling with replacement. Tức khi mình sample được 1 dữ liệu thì mình không bỏ dữ liệu đấy ra mà vẫn giữ lại trong tập dữ liệu ban đầu, rồi tiếp tục sample cho tới khi sample đủ n dữ liệu. Khi dùng kĩ thuật này thì tập n dữ liệu mới của mình có thể có những dữ liệu bị trùng nhau.\n",
    "\n",
    "![random forest](./imgs/random_forest/sampling.PNG)\n",
    "\n",
    "2. Sau khi sample được n dữ liệu từ bước 1 thì mình chọn ngẫu nhiên ở k thuộc tính (k < n). Giờ mình được bộ dữ liệu mới gồm n dữ liệu và mỗi dữ liệu có k thuộc tính.\n",
    "\n",
    "3. Dùng thuật toán Decision Tree để xây cây quyết định với bộ dữ liệu ở bước 2.\n",
    "\n",
    "Do quá trính xây mỗi cây quyết định đều có yếu tố ngẫu nhiên (random) nên kết quả là các cây quyết định trong thuật toán Random Forest có thể khác nhau."
   ]
  },
  {
   "cell_type": "markdown",
   "id": "typical-myanmar",
   "metadata": {},
   "source": [
    "# Random Forest giảm overfitting"
   ]
  },
  {
   "cell_type": "markdown",
   "id": "appointed-banner",
   "metadata": {},
   "source": [
    "# Bagging vs Boosting"
   ]
  }
 ],
 "metadata": {
  "kernelspec": {
   "display_name": "Python 3",
   "language": "python",
   "name": "python3"
  },
  "language_info": {
   "codemirror_mode": {
    "name": "ipython",
    "version": 3
   },
   "file_extension": ".py",
   "mimetype": "text/x-python",
   "name": "python",
   "nbconvert_exporter": "python",
   "pygments_lexer": "ipython3",
   "version": "3.8.1"
  }
 },
 "nbformat": 4,
 "nbformat_minor": 5
}
